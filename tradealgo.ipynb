{
 "cells": [
  {
   "cell_type": "code",
   "execution_count": 1,
   "id": "aba612f5-8f07-454c-b0b6-087aa92c47be",
   "metadata": {},
   "outputs": [],
   "source": [
    "import yfinance as yf\n",
    "import pandas as pd\n",
    "import numpy as np\n",
    "from talib import BBANDS, RSI, MA_Type, ATR, MFI\n",
    "import datetime as dt\n",
    "\n",
    "import warnings\n",
    "warnings.filterwarnings('ignore')"
   ]
  },
  {
   "cell_type": "code",
   "execution_count": 2,
   "id": "67bf33db-2c11-4dc3-a262-5edf0bde692d",
   "metadata": {},
   "outputs": [
    {
     "data": {
      "text/html": [
       "<div>\n",
       "<style scoped>\n",
       "    .dataframe tbody tr th:only-of-type {\n",
       "        vertical-align: middle;\n",
       "    }\n",
       "\n",
       "    .dataframe tbody tr th {\n",
       "        vertical-align: top;\n",
       "    }\n",
       "\n",
       "    .dataframe thead th {\n",
       "        text-align: right;\n",
       "    }\n",
       "</style>\n",
       "<table border=\"1\" class=\"dataframe\">\n",
       "  <thead>\n",
       "    <tr style=\"text-align: right;\">\n",
       "      <th></th>\n",
       "      <th>Open</th>\n",
       "      <th>High</th>\n",
       "      <th>Low</th>\n",
       "      <th>Close</th>\n",
       "      <th>Volume</th>\n",
       "      <th>Dividends</th>\n",
       "      <th>Stock Splits</th>\n",
       "    </tr>\n",
       "    <tr>\n",
       "      <th>Datetime</th>\n",
       "      <th></th>\n",
       "      <th></th>\n",
       "      <th></th>\n",
       "      <th></th>\n",
       "      <th></th>\n",
       "      <th></th>\n",
       "      <th></th>\n",
       "    </tr>\n",
       "  </thead>\n",
       "  <tbody>\n",
       "    <tr>\n",
       "      <th>2023-03-14 09:30:00-04:00</th>\n",
       "      <td>256.750000</td>\n",
       "      <td>257.940002</td>\n",
       "      <td>256.644989</td>\n",
       "      <td>257.119995</td>\n",
       "      <td>1929215</td>\n",
       "      <td>0.0</td>\n",
       "      <td>0.0</td>\n",
       "    </tr>\n",
       "    <tr>\n",
       "      <th>2023-03-14 09:35:00-04:00</th>\n",
       "      <td>257.170013</td>\n",
       "      <td>257.579987</td>\n",
       "      <td>255.860001</td>\n",
       "      <td>257.049988</td>\n",
       "      <td>728645</td>\n",
       "      <td>0.0</td>\n",
       "      <td>0.0</td>\n",
       "    </tr>\n",
       "    <tr>\n",
       "      <th>2023-03-14 09:40:00-04:00</th>\n",
       "      <td>257.100006</td>\n",
       "      <td>258.489990</td>\n",
       "      <td>257.086609</td>\n",
       "      <td>257.840088</td>\n",
       "      <td>449404</td>\n",
       "      <td>0.0</td>\n",
       "      <td>0.0</td>\n",
       "    </tr>\n",
       "    <tr>\n",
       "      <th>2023-03-14 09:45:00-04:00</th>\n",
       "      <td>257.869995</td>\n",
       "      <td>258.299011</td>\n",
       "      <td>257.279999</td>\n",
       "      <td>257.410004</td>\n",
       "      <td>342208</td>\n",
       "      <td>0.0</td>\n",
       "      <td>0.0</td>\n",
       "    </tr>\n",
       "    <tr>\n",
       "      <th>2023-03-14 09:50:00-04:00</th>\n",
       "      <td>257.359985</td>\n",
       "      <td>257.720001</td>\n",
       "      <td>257.179993</td>\n",
       "      <td>257.290009</td>\n",
       "      <td>263527</td>\n",
       "      <td>0.0</td>\n",
       "      <td>0.0</td>\n",
       "    </tr>\n",
       "  </tbody>\n",
       "</table>\n",
       "</div>"
      ],
      "text/plain": [
       "                                 Open        High         Low       Close  \\\n",
       "Datetime                                                                    \n",
       "2023-03-14 09:30:00-04:00  256.750000  257.940002  256.644989  257.119995   \n",
       "2023-03-14 09:35:00-04:00  257.170013  257.579987  255.860001  257.049988   \n",
       "2023-03-14 09:40:00-04:00  257.100006  258.489990  257.086609  257.840088   \n",
       "2023-03-14 09:45:00-04:00  257.869995  258.299011  257.279999  257.410004   \n",
       "2023-03-14 09:50:00-04:00  257.359985  257.720001  257.179993  257.290009   \n",
       "\n",
       "                            Volume  Dividends  Stock Splits  \n",
       "Datetime                                                     \n",
       "2023-03-14 09:30:00-04:00  1929215        0.0           0.0  \n",
       "2023-03-14 09:35:00-04:00   728645        0.0           0.0  \n",
       "2023-03-14 09:40:00-04:00   449404        0.0           0.0  \n",
       "2023-03-14 09:45:00-04:00   342208        0.0           0.0  \n",
       "2023-03-14 09:50:00-04:00   263527        0.0           0.0  "
      ]
     },
     "execution_count": 2,
     "metadata": {},
     "output_type": "execute_result"
    }
   ],
   "source": [
    "# # Download historical data\n",
    "# # Define the start and end dates for the data\n",
    "# end_date = dt.datetime.now()\n",
    "# start_date = end_date - dt.timedelta(days=729)\n",
    "\n",
    "# # Download 5-minute interval data for the specified date range\n",
    "# df = yf.download('TSLA', start=start_date, end=end_date, interval='1h')\n",
    "\n",
    "# print(df.head())\n",
    "\n",
    "tickerSymbol = 'msft'\n",
    "# Get data on this ticker\n",
    "tickerData = yf.Ticker(tickerSymbol)\n",
    "# Get the historical prices for this ticker\n",
    "df = tickerData.history(period='60d', interval='5m')\n",
    "# Print the data\n",
    "df.head()"
   ]
  },
  {
   "cell_type": "code",
   "execution_count": 3,
   "id": "f59e729e-723a-41c2-8493-615b42c2aea7",
   "metadata": {},
   "outputs": [],
   "source": [
    "# Calculate Bollinger Bands\n",
    "df['upper_band'], df['middle_band'], df['lower_band'] = BBANDS(df['Close'], timeperiod=14)\n",
    "\n",
    "# Calculate RSI\n",
    "df['rsi'] = RSI(df['Close'], timeperiod=14)\n",
    "\n",
    "# Calculate Keltner Channels\n",
    "df['keltner_middle'] = df['Close'].rolling(window=20).mean()\n",
    "df['atr'] = ATR(df['High'], df['Low'], df['Close'], timeperiod=14)\n",
    "df['keltner_upper'] = df['keltner_middle'] + (df['atr'] * 1.5)\n",
    "df['keltner_lower'] = df['keltner_middle'] - (df['atr'] * 1.5)\n",
    "\n",
    "#Ca mfi\n",
    "df['mfi'] = MFI(df['High'], df['Low'], df['Close'], df['Volume'])"
   ]
  },
  {
   "cell_type": "code",
   "execution_count": 4,
   "id": "8abf78cb-6905-4425-a86a-5bb74ebf9485",
   "metadata": {},
   "outputs": [],
   "source": [
    "# Set starting balance and risk amount\n",
    "starting_balance = 10000\n",
    "risk_amount = (.40 * starting_balance) # 5% of starting balance\n",
    "stop_loss_pct = 0.15 # 10%\n",
    "balance = starting_balance\n"
   ]
  },
  {
   "cell_type": "code",
   "execution_count": 5,
   "id": "176d65ec-382a-48f5-9808-d70bf5fa00f5",
   "metadata": {},
   "outputs": [],
   "source": [
    "# Initialize variables\n",
    "position = 0\n",
    "entry_price = 0\n",
    "num_shares = 0"
   ]
  },
  {
   "cell_type": "code",
   "execution_count": 6,
   "id": "ba306c55-ccea-4c15-92ae-2a3427d38cfc",
   "metadata": {},
   "outputs": [],
   "source": [
    "import pandas as pd\n",
    "\n",
    "# Initialize trade journal\n",
    "trade_journal = pd.DataFrame(columns=[\"Date\", \"Action\", \"Price\", \"Shares\", \"Balance\"])\n"
   ]
  },
  {
   "cell_type": "code",
   "execution_count": 7,
   "id": "aa6d9500-b722-4b41-add8-1ab49b31f461",
   "metadata": {},
   "outputs": [],
   "source": [
    "# Iterate over the data\n",
    "for i, row in df.iterrows():\n",
    "    # Check if RSI is below 20 and close price is below the lower Keltner Channel or lower Bollinger Band\n",
    "    if row['rsi'] < 30 and (row['Close'] <  row['keltner_lower'] or row['Close'] < row['lower_band']):\n",
    "        if position == 0:\n",
    "            # Calculate the number of shares we can buy based on risk amount and current price\n",
    "            num_shares = int(risk_amount / row['Close'])\n",
    "            # Subtract the cost from our balance\n",
    "            balance -= num_shares * row['Close']\n",
    "            # Update our position\n",
    "            position += num_shares\n",
    "            # Update the entry price\n",
    "            entry_price = row['Close']\n",
    "            trade_journal = trade_journal.append({\"Date\": row.name, \"Action\": \"Buy\", \"Price\": row[\"Close\"], \"Shares\": num_shares, \"Balance\": balance}, ignore_index=True)\n",
    " # Adjust sell condition\n",
    "    elif ((row['rsi'] > 72 and (row['Close'] > row['keltner_upper'] or row['Close'] > row['upper_band'])) or\n",
    "          (entry_price > 0 and row['Close'] < entry_price * (1 - stop_loss_pct)) or\n",
    "          (row['mfi'] < 57 and row['rsi'] > 72)):  # added condition for MFI < 57 and RSI > 70\n",
    "        if position > 0:\n",
    "            # Add the revenue from selling our position to our balance\n",
    "            balance += position * row['Close']\n",
    "            trade_journal = trade_journal.append({\"Date\": row.name, \"Action\": \"Sell\", \"Price\": row[\"Close\"], \"Shares\": position, \"Balance\": balance}, ignore_index=True)\n",
    "            # Update our position\n",
    "            position = 0"
   ]
  },
  {
   "cell_type": "code",
   "execution_count": 8,
   "id": "fe38a5d9-3a86-4028-86bf-1031d83ae632",
   "metadata": {},
   "outputs": [
    {
     "name": "stdout",
     "output_type": "stream",
     "text": [
      "Final balance: 6494.002410888672\n"
     ]
    }
   ],
   "source": [
    "print(f'Final balance: {balance}')"
   ]
  },
  {
   "cell_type": "code",
   "execution_count": 9,
   "id": "016b0b38-d913-40d6-b0e3-f77ba8459242",
   "metadata": {},
   "outputs": [],
   "source": [
    "# Separate dataframes for buy and sell operations\n",
    "buy_df = trade_journal[trade_journal[\"Action\"] == \"Buy\"].copy().reset_index(drop=True)\n",
    "sell_df = trade_journal[trade_journal[\"Action\"] == \"Sell\"].copy().reset_index(drop=True)"
   ]
  },
  {
   "cell_type": "code",
   "execution_count": 10,
   "id": "b21d36ce-ccb1-4cc4-a6f9-49517de6d88c",
   "metadata": {},
   "outputs": [],
   "source": [
    "# Ensure that buy_df and sell_df have the same length\n",
    "if len(buy_df) != len(sell_df):\n",
    "    min_len = min(len(buy_df), len(sell_df))\n",
    "    buy_df = buy_df[:min_len]\n",
    "    sell_df = sell_df[:min_len]"
   ]
  },
  {
   "cell_type": "code",
   "execution_count": 11,
   "id": "49d5c081-5f6b-46e0-b495-c823892a0523",
   "metadata": {},
   "outputs": [
    {
     "name": "stdout",
     "output_type": "stream",
     "text": [
      "Number of trades: 14\n",
      "Win/Loss ratio: 0.9285714285714286\n",
      "Total profit/loss: -3505.997589111328\n",
      "                        Date Action       Price Shares       Balance\n",
      "0  2023-03-20 09:50:00-04:00    Buy  272.291901     14   6187.913391\n",
      "1  2023-03-21 09:30:00-04:00   Sell  274.660004     14  10033.153442\n",
      "2  2023-03-22 15:55:00-04:00    Buy  272.269989     14   6221.373596\n",
      "3  2023-03-28 15:20:00-04:00   Sell  274.480011     14  10064.093750\n",
      "4  2023-04-03 11:40:00-04:00    Buy  284.820007     14   6076.613647\n",
      "5  2023-04-03 15:05:00-04:00   Sell  286.540009     14  10088.173767\n",
      "6  2023-04-04 14:55:00-04:00    Buy  286.190002     13   6367.703735\n",
      "7  2023-04-06 11:45:00-04:00   Sell  286.260010     13  10089.083862\n",
      "8  2023-04-10 09:35:00-04:00    Buy  287.299988     13   6354.184021\n",
      "9  2023-04-12 13:15:00-04:00   Sell  286.540009     13  10079.204132\n",
      "10 2023-04-14 12:45:00-04:00    Buy  284.183014     14   6100.641937\n",
      "11 2023-04-17 09:30:00-04:00   Sell  290.339996     14  10165.401886\n",
      "12 2023-04-19 09:35:00-04:00    Buy  285.290009     14   6171.341766\n",
      "13 2023-04-19 12:30:00-04:00   Sell  288.980011     14  10217.061920\n",
      "14 2023-04-20 09:30:00-04:00    Buy  286.070404     13   6498.146667\n",
      "15 2023-04-20 13:05:00-04:00   Sell  288.720001     13  10251.506683\n",
      "16 2023-04-20 14:25:00-04:00    Buy  286.709991     13   6524.276794\n",
      "17 2023-04-26 09:30:00-04:00   Sell  294.684998     13  10355.181763\n",
      "18 2023-05-01 14:30:00-04:00    Buy  305.929993     13   6378.091858\n",
      "19 2023-05-05 10:30:00-04:00   Sell  309.039886     13  10395.610382\n",
      "20 2023-05-08 09:30:00-04:00    Buy  309.100006     12   6686.410309\n",
      "21 2023-05-10 09:30:00-04:00   Sell  309.684998     12  10402.630280\n",
      "22 2023-05-11 09:30:00-04:00    Buy  307.599213     13   6403.840515\n",
      "23 2023-05-12 15:50:00-04:00   Sell  308.970001     13  10420.450531\n",
      "24 2023-05-23 10:45:00-04:00    Buy  319.144196     12   6590.720184\n",
      "25 2023-05-25 09:30:00-04:00   Sell  321.160187     12  10444.642426\n",
      "26 2023-05-31 11:30:00-04:00    Buy  329.140015     12   6494.962250\n",
      "27 2023-06-01 14:55:00-04:00   Sell  333.029999     12  10491.322235\n",
      "28 2023-06-06 09:30:00-04:00    Buy  333.109985     12   6494.002411\n"
     ]
    }
   ],
   "source": [
    "# Calculate metrics\n",
    "num_wins = (sell_df[\"Price\"] > buy_df[\"Price\"]).sum()\n",
    "num_losses = (sell_df[\"Price\"] < buy_df[\"Price\"]).sum()\n",
    "win_ratio = num_wins / (num_wins + num_losses)\n",
    "total_profit = balance - starting_balance\n",
    "num_trades = len(buy_df)\n",
    "\n",
    "print(f'Number of trades: {num_trades}')\n",
    "print(f'Win/Loss ratio: {win_ratio}')\n",
    "print(f'Total profit/loss: {total_profit}')\n",
    "print(trade_journal)"
   ]
  },
  {
   "cell_type": "code",
   "execution_count": null,
   "id": "0381fe54-a7c2-48e5-9fae-76068c075541",
   "metadata": {},
   "outputs": [],
   "source": []
  },
  {
   "cell_type": "code",
   "execution_count": null,
   "id": "403b9f22-24f6-4029-bae3-0bd05d2ad798",
   "metadata": {},
   "outputs": [],
   "source": []
  }
 ],
 "metadata": {
  "kernelspec": {
   "display_name": "Python 3 (ipykernel)",
   "language": "python",
   "name": "python3"
  },
  "language_info": {
   "codemirror_mode": {
    "name": "ipython",
    "version": 3
   },
   "file_extension": ".py",
   "mimetype": "text/x-python",
   "name": "python",
   "nbconvert_exporter": "python",
   "pygments_lexer": "ipython3",
   "version": "3.9.16"
  }
 },
 "nbformat": 4,
 "nbformat_minor": 5
}
