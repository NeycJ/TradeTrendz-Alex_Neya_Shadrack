{
 "cells": [
  {
   "cell_type": "code",
   "execution_count": 1,
   "id": "aba612f5-8f07-454c-b0b6-087aa92c47be",
   "metadata": {},
   "outputs": [],
   "source": [
    "import yfinance as yf\n",
    "import pandas as pd\n",
    "import numpy as np\n",
    "from talib import BBANDS, RSI, MA_Type, ATR\n",
    "import datetime as dt"
   ]
  },
  {
   "cell_type": "code",
   "execution_count": 22,
   "id": "67bf33db-2c11-4dc3-a262-5edf0bde692d",
   "metadata": {},
   "outputs": [
    {
     "data": {
      "text/html": [
       "<div>\n",
       "<style scoped>\n",
       "    .dataframe tbody tr th:only-of-type {\n",
       "        vertical-align: middle;\n",
       "    }\n",
       "\n",
       "    .dataframe tbody tr th {\n",
       "        vertical-align: top;\n",
       "    }\n",
       "\n",
       "    .dataframe thead th {\n",
       "        text-align: right;\n",
       "    }\n",
       "</style>\n",
       "<table border=\"1\" class=\"dataframe\">\n",
       "  <thead>\n",
       "    <tr style=\"text-align: right;\">\n",
       "      <th></th>\n",
       "      <th>Open</th>\n",
       "      <th>High</th>\n",
       "      <th>Low</th>\n",
       "      <th>Close</th>\n",
       "      <th>Volume</th>\n",
       "      <th>Dividends</th>\n",
       "      <th>Stock Splits</th>\n",
       "    </tr>\n",
       "    <tr>\n",
       "      <th>Datetime</th>\n",
       "      <th></th>\n",
       "      <th></th>\n",
       "      <th></th>\n",
       "      <th></th>\n",
       "      <th></th>\n",
       "      <th></th>\n",
       "      <th></th>\n",
       "    </tr>\n",
       "  </thead>\n",
       "  <tbody>\n",
       "    <tr>\n",
       "      <th>2023-03-07 09:30:00-05:00</th>\n",
       "      <td>191.380005</td>\n",
       "      <td>192.243896</td>\n",
       "      <td>190.320007</td>\n",
       "      <td>191.809998</td>\n",
       "      <td>6399407</td>\n",
       "      <td>0.0</td>\n",
       "      <td>0.0</td>\n",
       "    </tr>\n",
       "    <tr>\n",
       "      <th>2023-03-07 09:35:00-05:00</th>\n",
       "      <td>191.821503</td>\n",
       "      <td>192.389999</td>\n",
       "      <td>191.500000</td>\n",
       "      <td>191.787903</td>\n",
       "      <td>2630290</td>\n",
       "      <td>0.0</td>\n",
       "      <td>0.0</td>\n",
       "    </tr>\n",
       "    <tr>\n",
       "      <th>2023-03-07 09:40:00-05:00</th>\n",
       "      <td>191.820007</td>\n",
       "      <td>192.203003</td>\n",
       "      <td>190.850006</td>\n",
       "      <td>191.029999</td>\n",
       "      <td>2650631</td>\n",
       "      <td>0.0</td>\n",
       "      <td>0.0</td>\n",
       "    </tr>\n",
       "    <tr>\n",
       "      <th>2023-03-07 09:45:00-05:00</th>\n",
       "      <td>191.000000</td>\n",
       "      <td>191.752396</td>\n",
       "      <td>191.000000</td>\n",
       "      <td>191.229996</td>\n",
       "      <td>1874939</td>\n",
       "      <td>0.0</td>\n",
       "      <td>0.0</td>\n",
       "    </tr>\n",
       "    <tr>\n",
       "      <th>2023-03-07 09:50:00-05:00</th>\n",
       "      <td>191.279999</td>\n",
       "      <td>191.339996</td>\n",
       "      <td>190.610001</td>\n",
       "      <td>190.986893</td>\n",
       "      <td>2051243</td>\n",
       "      <td>0.0</td>\n",
       "      <td>0.0</td>\n",
       "    </tr>\n",
       "  </tbody>\n",
       "</table>\n",
       "</div>"
      ],
      "text/plain": [
       "                                 Open        High         Low       Close  \\\n",
       "Datetime                                                                    \n",
       "2023-03-07 09:30:00-05:00  191.380005  192.243896  190.320007  191.809998   \n",
       "2023-03-07 09:35:00-05:00  191.821503  192.389999  191.500000  191.787903   \n",
       "2023-03-07 09:40:00-05:00  191.820007  192.203003  190.850006  191.029999   \n",
       "2023-03-07 09:45:00-05:00  191.000000  191.752396  191.000000  191.229996   \n",
       "2023-03-07 09:50:00-05:00  191.279999  191.339996  190.610001  190.986893   \n",
       "\n",
       "                            Volume  Dividends  Stock Splits  \n",
       "Datetime                                                     \n",
       "2023-03-07 09:30:00-05:00  6399407        0.0           0.0  \n",
       "2023-03-07 09:35:00-05:00  2630290        0.0           0.0  \n",
       "2023-03-07 09:40:00-05:00  2650631        0.0           0.0  \n",
       "2023-03-07 09:45:00-05:00  1874939        0.0           0.0  \n",
       "2023-03-07 09:50:00-05:00  2051243        0.0           0.0  "
      ]
     },
     "execution_count": 22,
     "metadata": {},
     "output_type": "execute_result"
    }
   ],
   "source": [
    "# # Download historical data\n",
    "# # Define the start and end dates for the data\n",
    "# end_date = dt.datetime.now()\n",
    "# start_date = end_date - dt.timedelta(days=729)\n",
    "\n",
    "# # Download 5-minute interval data for the specified date range\n",
    "# df = yf.download('TSLA', start=start_date, end=end_date, interval='1h')\n",
    "\n",
    "# print(df.head())\n",
    "\n",
    "tickerSymbol = 'TSLA'\n",
    "# Get data on this ticker\n",
    "tickerData = yf.Ticker(tickerSymbol)\n",
    "# Get the historical prices for this ticker\n",
    "df = tickerData.history(period='60d', interval='5m')\n",
    "# Print the data\n",
    "df.head()"
   ]
  },
  {
   "cell_type": "code",
   "execution_count": 3,
   "id": "f59e729e-723a-41c2-8493-615b42c2aea7",
   "metadata": {},
   "outputs": [],
   "source": [
    "# Calculate Bollinger Bands\n",
    "df['upper_band'], df['middle_band'], df['lower_band'] = BBANDS(df['Close'], timeperiod=20)\n",
    "\n",
    "# Calculate RSI\n",
    "df['rsi'] = RSI(df['Close'], timeperiod=14)\n",
    "\n",
    "# Calculate Keltner Channels\n",
    "df['keltner_middle'] = df['Close'].rolling(window=20).mean()\n",
    "df['atr'] = ATR(df['High'], df['Low'], df['Close'], timeperiod=20)\n",
    "df['keltner_upper'] = df['keltner_middle'] + (df['atr'] * 1.5)\n",
    "df['keltner_lower'] = df['keltner_middle'] - (df['atr'] * 1.5)\n"
   ]
  },
  {
   "cell_type": "code",
   "execution_count": 4,
   "id": "8abf78cb-6905-4425-a86a-5bb74ebf9485",
   "metadata": {},
   "outputs": [],
   "source": [
    "# Set starting balance and risk amount\n",
    "starting_balance = 1000000\n",
    "risk_amount = (.05 * starting_balance) # 5% of starting balance\n",
    "stop_loss_pct = 0.10 # 10%\n",
    "balance = starting_balance\n"
   ]
  },
  {
   "cell_type": "code",
   "execution_count": 5,
   "id": "176d65ec-382a-48f5-9808-d70bf5fa00f5",
   "metadata": {},
   "outputs": [],
   "source": [
    "# Initialize variables\n",
    "position = 0\n",
    "entry_price = 0\n",
    "num_shares = 0"
   ]
  },
  {
   "cell_type": "code",
   "execution_count": 6,
   "id": "ba306c55-ccea-4c15-92ae-2a3427d38cfc",
   "metadata": {},
   "outputs": [],
   "source": [
    "# Initialize trade journal\n",
    "trade_journal = pd.DataFrame(columns=[\"Date\", \"Action\", \"Price\", \"Shares\", \"Balance\"])\n"
   ]
  },
  {
   "cell_type": "code",
   "execution_count": 14,
   "id": "aa6d9500-b722-4b41-add8-1ab49b31f461",
   "metadata": {},
   "outputs": [],
   "source": [
    "# Iterate over the data\n",
    "for i, row in df.iterrows():\n",
    "    # Check if RSI is below 20 and close price is below the lower Keltner Channel and lower Bollinger Band\n",
    "    if row['rsi'] < 20 and (row['Close'] <  row['keltner_lower'] or row['Close'] < row['lower_band']):\n",
    "        if position == 0:\n",
    "            # Calculate the number of shares we can buy based on risk amount and current price\n",
    "            num_shares = int(risk_amount / row['Close'])\n",
    "            # Subtract the cost from our balance\n",
    "            balance -= num_shares * row['Close']\n",
    "            # Update our position\n",
    "            position += num_shares\n",
    "            # Update the entry price\n",
    "            entry_price = row['Close']\n",
    "            trade_journal = trade_journal.append({\"Date\": row.name, \"Action\": \"Buy\", \"Price\": row[\"Close\"], \"Shares\": num_shares, \"Balance\": balance}, ignore_index=True)\n",
    "\n",
    "    # Check if RSI is above 80 and close price is above the upper Keltner Channel and upper Bollinger Band, or the stop loss is triggered\n",
    "    elif (row['rsi'] > 75 and (row['Close'] > row['keltner_upper'] or row['Close'] > row['upper_band'])) or (entry_price > 0 and row['Close'] < entry_price * (1 - stop_loss_pct)):\n",
    "        if position > 0:\n",
    "            # Add the revenue from selling our position to our balance\n",
    "            balance += position * row['Close']\n",
    "            trade_journal = trade_journal.append({\"Date\": row.name, \"Action\": \"Sell\", \"Price\": row[\"Close\"], \"Shares\": position, \"Balance\": balance}, ignore_index=True)\n",
    "            # Update our position\n",
    "            position = 0"
   ]
  },
  {
   "cell_type": "code",
   "execution_count": 16,
   "id": "fe38a5d9-3a86-4028-86bf-1031d83ae632",
   "metadata": {},
   "outputs": [
    {
     "name": "stdout",
     "output_type": "stream",
     "text": [
      "Final balance: 1019448.7903137207\n"
     ]
    }
   ],
   "source": [
    "print(f'Final balance: {balance}')"
   ]
  },
  {
   "cell_type": "code",
   "execution_count": 17,
   "id": "016b0b38-d913-40d6-b0e3-f77ba8459242",
   "metadata": {},
   "outputs": [],
   "source": [
    "# Separate dataframes for buy and sell operations\n",
    "buy_df = trade_journal[trade_journal[\"Action\"] == \"Buy\"].copy().reset_index(drop=True)\n",
    "sell_df = trade_journal[trade_journal[\"Action\"] == \"Sell\"].copy().reset_index(drop=True)"
   ]
  },
  {
   "cell_type": "code",
   "execution_count": 18,
   "id": "b21d36ce-ccb1-4cc4-a6f9-49517de6d88c",
   "metadata": {},
   "outputs": [],
   "source": [
    "# Ensure that buy_df and sell_df have the same length\n",
    "if len(buy_df) != len(sell_df):\n",
    "    min_len = min(len(buy_df), len(sell_df))\n",
    "    buy_df = buy_df[:min_len]\n",
    "    sell_df = sell_df[:min_len]"
   ]
  },
  {
   "cell_type": "code",
   "execution_count": 19,
   "id": "49d5c081-5f6b-46e0-b495-c823892a0523",
   "metadata": {},
   "outputs": [
    {
     "name": "stdout",
     "output_type": "stream",
     "text": [
      "Number of trades: 24\n",
      "Win/Loss ratio: 0.9166666666666666\n",
      "Total profit/loss: 19448.790313720703\n",
      "                        Date Action       Price Shares       Balance\n",
      "0  2023-03-08 09:30:00-05:00    Buy  183.630005    272  9.500526e+05\n",
      "1  2023-03-09 09:45:00-05:00   Sell  184.639999    272  1.000275e+06\n",
      "2  2023-03-10 09:40:00-05:00    Buy  170.149994    293  9.504208e+05\n",
      "3  2023-03-13 14:30:00-04:00   Sell  177.234299    293  1.002350e+06\n",
      "4  2023-03-23 14:40:00-04:00    Buy  188.750000    264  9.525204e+05\n",
      "5  2023-03-27 09:30:00-04:00   Sell  196.251999    264  1.004331e+06\n",
      "6  2023-03-28 09:35:00-04:00    Buy  188.750305    264  9.545009e+05\n",
      "7  2023-03-29 09:30:00-04:00   Sell  194.132706    264  1.005752e+06\n",
      "8  2023-04-03 09:50:00-04:00    Buy  198.089996    252  9.558332e+05\n",
      "9  2023-04-04 09:30:00-04:00   Sell  198.440002    252  1.005840e+06\n",
      "10 2023-04-06 09:30:00-04:00    Buy  180.460007    277  9.558527e+05\n",
      "11 2023-04-11 09:30:00-04:00   Sell  187.860107    277  1.007890e+06\n",
      "12 2023-04-14 09:30:00-04:00    Buy  182.689896    273  9.580156e+05\n",
      "13 2023-04-17 09:35:00-04:00   Sell  187.550003    273  1.009217e+06\n",
      "14 2023-04-19 09:30:00-04:00    Buy  179.559906    278  9.592991e+05\n",
      "15 2023-04-20 15:00:00-04:00   Sell  161.085007    278  1.004081e+06\n",
      "16 2023-04-24 10:30:00-04:00    Buy  160.021393    312  9.541540e+05\n",
      "17 2023-04-24 15:30:00-04:00   Sell  162.970001    312  1.005001e+06\n",
      "18 2023-04-26 09:30:00-04:00    Buy  159.550003    313  9.550615e+05\n",
      "19 2023-05-02 09:30:00-04:00   Sell  164.360001    313  1.006506e+06\n",
      "20 2023-05-03 15:40:00-04:00    Buy  160.771103    311  9.565064e+05\n",
      "21 2023-05-05 09:30:00-04:00   Sell  164.869904    311  1.007781e+06\n",
      "22 2023-05-24 09:45:00-04:00    Buy  180.899994    276  9.578525e+05\n",
      "23 2023-05-26 09:35:00-04:00   Sell  187.941498    276  1.009724e+06\n",
      "24 2023-03-08 09:30:00-05:00    Buy  183.630005    272  9.597770e+05\n",
      "25 2023-03-09 09:45:00-05:00   Sell  184.639999    272  1.009999e+06\n",
      "26 2023-03-10 09:40:00-05:00    Buy  170.149994    293  9.601452e+05\n",
      "27 2023-03-13 14:30:00-04:00   Sell  177.234299    293  1.012075e+06\n",
      "28 2023-03-23 14:40:00-04:00    Buy  188.750000    264  9.622448e+05\n",
      "29 2023-03-27 09:30:00-04:00   Sell  196.251999    264  1.014055e+06\n",
      "30 2023-03-28 09:35:00-04:00    Buy  188.750305    264  9.642253e+05\n",
      "31 2023-03-29 09:30:00-04:00   Sell  194.132706    264  1.015476e+06\n",
      "32 2023-04-03 09:50:00-04:00    Buy  198.089996    252  9.655576e+05\n",
      "33 2023-04-04 09:30:00-04:00   Sell  198.440002    252  1.015564e+06\n",
      "34 2023-04-06 09:30:00-04:00    Buy  180.460007    277  9.655771e+05\n",
      "35 2023-04-11 09:30:00-04:00   Sell  187.860107    277  1.017614e+06\n",
      "36 2023-04-14 09:30:00-04:00    Buy  182.689896    273  9.677400e+05\n",
      "37 2023-04-17 09:35:00-04:00   Sell  187.550003    273  1.018941e+06\n",
      "38 2023-04-19 09:30:00-04:00    Buy  179.559906    278  9.690235e+05\n",
      "39 2023-04-20 15:00:00-04:00   Sell  161.085007    278  1.013805e+06\n",
      "40 2023-04-24 10:30:00-04:00    Buy  160.021393    312  9.638784e+05\n",
      "41 2023-04-24 15:30:00-04:00   Sell  162.970001    312  1.014725e+06\n",
      "42 2023-04-26 09:30:00-04:00    Buy  159.550003    313  9.647859e+05\n",
      "43 2023-05-02 09:30:00-04:00   Sell  164.360001    313  1.016231e+06\n",
      "44 2023-05-03 15:40:00-04:00    Buy  160.771103    311  9.662308e+05\n",
      "45 2023-05-05 09:30:00-04:00   Sell  164.869904    311  1.017505e+06\n",
      "46 2023-05-24 09:45:00-04:00    Buy  180.899994    276  9.675769e+05\n",
      "47 2023-05-26 09:35:00-04:00   Sell  187.941498    276  1.019449e+06\n"
     ]
    }
   ],
   "source": [
    "# Calculate metrics\n",
    "num_wins = (sell_df[\"Price\"] > buy_df[\"Price\"]).sum()\n",
    "num_losses = (sell_df[\"Price\"] < buy_df[\"Price\"]).sum()\n",
    "win_ratio = num_wins / (num_wins + num_losses)\n",
    "total_profit = balance - starting_balance\n",
    "num_trades = len(buy_df)\n",
    "\n",
    "print(f'Number of trades: {num_trades}')\n",
    "print(f'Win/Loss ratio: {win_ratio}')\n",
    "print(f'Total profit/loss: {total_profit}')\n",
    "print(trade_journal)"
   ]
  },
  {
   "cell_type": "code",
   "execution_count": null,
   "id": "0381fe54-a7c2-48e5-9fae-76068c075541",
   "metadata": {},
   "outputs": [],
   "source": []
  },
  {
   "cell_type": "code",
   "execution_count": null,
   "id": "403b9f22-24f6-4029-bae3-0bd05d2ad798",
   "metadata": {},
   "outputs": [],
   "source": []
  }
 ],
 "metadata": {
  "kernelspec": {
   "display_name": "Python 3 (ipykernel)",
   "language": "python",
   "name": "python3"
  },
  "language_info": {
   "codemirror_mode": {
    "name": "ipython",
    "version": 3
   },
   "file_extension": ".py",
   "mimetype": "text/x-python",
   "name": "python",
   "nbconvert_exporter": "python",
   "pygments_lexer": "ipython3",
   "version": "3.7.15"
  }
 },
 "nbformat": 4,
 "nbformat_minor": 5
}
