{
 "cells": [
  {
   "cell_type": "code",
   "execution_count": 1,
   "id": "aba612f5-8f07-454c-b0b6-087aa92c47be",
   "metadata": {},
   "outputs": [],
   "source": [
    "import yfinance as yf\n",
    "import pandas as pd\n",
    "import numpy as np\n",
    "from talib import BBANDS, RSI, MA_Type, ATR, MFI\n",
    "import datetime as dt"
   ]
  },
  {
   "cell_type": "code",
   "execution_count": 2,
   "id": "67bf33db-2c11-4dc3-a262-5edf0bde692d",
   "metadata": {},
   "outputs": [
    {
     "data": {
      "text/html": [
       "<div>\n",
       "<style scoped>\n",
       "    .dataframe tbody tr th:only-of-type {\n",
       "        vertical-align: middle;\n",
       "    }\n",
       "\n",
       "    .dataframe tbody tr th {\n",
       "        vertical-align: top;\n",
       "    }\n",
       "\n",
       "    .dataframe thead th {\n",
       "        text-align: right;\n",
       "    }\n",
       "</style>\n",
       "<table border=\"1\" class=\"dataframe\">\n",
       "  <thead>\n",
       "    <tr style=\"text-align: right;\">\n",
       "      <th></th>\n",
       "      <th>Open</th>\n",
       "      <th>High</th>\n",
       "      <th>Low</th>\n",
       "      <th>Close</th>\n",
       "      <th>Volume</th>\n",
       "      <th>Dividends</th>\n",
       "      <th>Stock Splits</th>\n",
       "    </tr>\n",
       "    <tr>\n",
       "      <th>Datetime</th>\n",
       "      <th></th>\n",
       "      <th></th>\n",
       "      <th></th>\n",
       "      <th></th>\n",
       "      <th></th>\n",
       "      <th></th>\n",
       "      <th></th>\n",
       "    </tr>\n",
       "  </thead>\n",
       "  <tbody>\n",
       "    <tr>\n",
       "      <th>2023-03-14 09:30:00-04:00</th>\n",
       "      <td>39.980000</td>\n",
       "      <td>40.070000</td>\n",
       "      <td>39.458401</td>\n",
       "      <td>39.599998</td>\n",
       "      <td>1066148</td>\n",
       "      <td>0.0</td>\n",
       "      <td>0.0</td>\n",
       "    </tr>\n",
       "    <tr>\n",
       "      <th>2023-03-14 09:35:00-04:00</th>\n",
       "      <td>39.570000</td>\n",
       "      <td>40.279999</td>\n",
       "      <td>39.560001</td>\n",
       "      <td>39.880001</td>\n",
       "      <td>490455</td>\n",
       "      <td>0.0</td>\n",
       "      <td>0.0</td>\n",
       "    </tr>\n",
       "    <tr>\n",
       "      <th>2023-03-14 09:40:00-04:00</th>\n",
       "      <td>39.889999</td>\n",
       "      <td>40.014999</td>\n",
       "      <td>39.790001</td>\n",
       "      <td>39.820000</td>\n",
       "      <td>273870</td>\n",
       "      <td>0.0</td>\n",
       "      <td>0.0</td>\n",
       "    </tr>\n",
       "    <tr>\n",
       "      <th>2023-03-14 09:45:00-04:00</th>\n",
       "      <td>39.820000</td>\n",
       "      <td>40.134998</td>\n",
       "      <td>39.716599</td>\n",
       "      <td>39.988300</td>\n",
       "      <td>276715</td>\n",
       "      <td>0.0</td>\n",
       "      <td>0.0</td>\n",
       "    </tr>\n",
       "    <tr>\n",
       "      <th>2023-03-14 09:50:00-04:00</th>\n",
       "      <td>39.990002</td>\n",
       "      <td>40.060001</td>\n",
       "      <td>39.790001</td>\n",
       "      <td>39.834999</td>\n",
       "      <td>213753</td>\n",
       "      <td>0.0</td>\n",
       "      <td>0.0</td>\n",
       "    </tr>\n",
       "  </tbody>\n",
       "</table>\n",
       "</div>"
      ],
      "text/plain": [
       "                                Open       High        Low      Close  \\\n",
       "Datetime                                                                \n",
       "2023-03-14 09:30:00-04:00  39.980000  40.070000  39.458401  39.599998   \n",
       "2023-03-14 09:35:00-04:00  39.570000  40.279999  39.560001  39.880001   \n",
       "2023-03-14 09:40:00-04:00  39.889999  40.014999  39.790001  39.820000   \n",
       "2023-03-14 09:45:00-04:00  39.820000  40.134998  39.716599  39.988300   \n",
       "2023-03-14 09:50:00-04:00  39.990002  40.060001  39.790001  39.834999   \n",
       "\n",
       "                            Volume  Dividends  Stock Splits  \n",
       "Datetime                                                     \n",
       "2023-03-14 09:30:00-04:00  1066148        0.0           0.0  \n",
       "2023-03-14 09:35:00-04:00   490455        0.0           0.0  \n",
       "2023-03-14 09:40:00-04:00   273870        0.0           0.0  \n",
       "2023-03-14 09:45:00-04:00   276715        0.0           0.0  \n",
       "2023-03-14 09:50:00-04:00   213753        0.0           0.0  "
      ]
     },
     "execution_count": 2,
     "metadata": {},
     "output_type": "execute_result"
    }
   ],
   "source": [
    "# # Download historical data\n",
    "tickerSymbol = 'JD'\n",
    "# Get data on this ticker\n",
    "tickerData = yf.Ticker(tickerSymbol)\n",
    "# Get the historical prices for this ticker\n",
    "df = tickerData.history(period='60d', interval='5m')\n",
    "# Print the data\n",
    "df.head()"
   ]
  },
  {
   "cell_type": "code",
   "execution_count": 3,
   "id": "f59e729e-723a-41c2-8493-615b42c2aea7",
   "metadata": {},
   "outputs": [],
   "source": [
    "# Calculate Bollinger Bands\n",
    "df['upper_band'], df['middle_band'], df['lower_band'] = BBANDS(df['Close'], timeperiod=20)\n",
    "\n",
    "# Calculate RSI\n",
    "df['rsi'] = RSI(df['Close'], timeperiod=14)\n",
    "\n",
    "# Calculate Keltner Channels\n",
    "df['keltner_middle'] = df['Close'].rolling(window=20).mean()\n",
    "df['atr'] = ATR(df['High'], df['Low'], df['Close'], timeperiod=20)\n",
    "df['keltner_upper'] = df['keltner_middle'] + (df['atr'] * 1.5)\n",
    "df['keltner_lower'] = df['keltner_middle'] - (df['atr'] * 1.5)\n",
    "\n",
    "# Calculate Money Flow Index\n",
    "df['mfi'] = MFI(df['High'], df['Low'], df['Close'], df['Volume'], timeperiod=14)"
   ]
  },
  {
   "cell_type": "code",
   "execution_count": 4,
   "id": "8abf78cb-6905-4425-a86a-5bb74ebf9485",
   "metadata": {},
   "outputs": [],
   "source": [
    "# Set starting balance and risk amount\n",
    "starting_balance = 50000\n",
    "risk_amount = (.40 * starting_balance) # 40% of starting balance\n",
    "stop_loss_pct = 0.15 # 15%\n",
    "balance = starting_balance\n"
   ]
  },
  {
   "cell_type": "code",
   "execution_count": 5,
   "id": "176d65ec-382a-48f5-9808-d70bf5fa00f5",
   "metadata": {},
   "outputs": [],
   "source": [
    "# Initialize variables\n",
    "position = 0\n",
    "entry_price = 0\n",
    "num_shares = 0"
   ]
  },
  {
   "cell_type": "code",
   "execution_count": 6,
   "id": "ba306c55-ccea-4c15-92ae-2a3427d38cfc",
   "metadata": {},
   "outputs": [],
   "source": [
    "# Initialize trade journal\n",
    "trade_journal = pd.DataFrame(columns=[\"Date\", \"Action\", \"Price\", \"Shares\", \"Balance\"])\n"
   ]
  },
  {
   "cell_type": "code",
   "execution_count": 7,
   "id": "aa6d9500-b722-4b41-add8-1ab49b31f461",
   "metadata": {},
   "outputs": [],
   "source": [
    "# Iterate over the data\n",
    "for i, row in df.iterrows():\n",
    "    # Check if RSI is below 20 and close price is below the lower Keltner Channel or lower Bollinger Band\n",
    "    if row['rsi'] < 20 and (row['Close'] <  row['keltner_lower'] or row['Close'] < row['lower_band']):\n",
    "        if position == 0:\n",
    "            # Calculate the number of shares we can buy based on risk amount and current price\n",
    "            num_shares = int(risk_amount / row['Close'])\n",
    "            # Subtract the cost from our balance\n",
    "            balance -= num_shares * row['Close']\n",
    "            # Update our position\n",
    "            position += num_shares\n",
    "            # Update the entry price\n",
    "            entry_price = row['Close']\n",
    "            trade_journal = trade_journal.append({\"Date\": row.name, \"Action\": \"Buy\", \"Price\": row[\"Close\"], \"Shares\": num_shares, \"Balance\": balance}, ignore_index=True)\n",
    " # Adjust sell condition\n",
    "    elif ((row['rsi'] > 80 and (row['Close'] > row['keltner_upper'] or row['Close'] > row['upper_band'])) or \n",
    "          (entry_price > 0 and row['Close'] < entry_price * (1 - stop_loss_pct)) or \n",
    "          (row['mfi'] < 57 and row['rsi'] > 80)):  # added condition for MFI < 57 and RSI > 70\n",
    "        if position > 0:\n",
    "            # Add the revenue from selling our position to our balance\n",
    "            balance += position * row['Close']\n",
    "            trade_journal = trade_journal.append({\"Date\": row.name, \"Action\": \"Sell\", \"Price\": row[\"Close\"], \"Shares\": position, \"Balance\": balance}, ignore_index=True)\n",
    "            # Update our position\n",
    "            position = 0"
   ]
  },
  {
   "cell_type": "code",
   "execution_count": 8,
   "id": "fe38a5d9-3a86-4028-86bf-1031d83ae632",
   "metadata": {},
   "outputs": [
    {
     "name": "stdout",
     "output_type": "stream",
     "text": [
      "Final balance: 27471.098098754883\n"
     ]
    }
   ],
   "source": [
    "print(f'Final balance: {balance}')"
   ]
  },
  {
   "cell_type": "code",
   "execution_count": 9,
   "id": "016b0b38-d913-40d6-b0e3-f77ba8459242",
   "metadata": {},
   "outputs": [],
   "source": [
    "# Separate dataframes for buy and sell operations\n",
    "buy_df = trade_journal[trade_journal[\"Action\"] == \"Buy\"].copy().reset_index(drop=True)\n",
    "sell_df = trade_journal[trade_journal[\"Action\"] == \"Sell\"].copy().reset_index(drop=True)"
   ]
  },
  {
   "cell_type": "code",
   "execution_count": 10,
   "id": "b21d36ce-ccb1-4cc4-a6f9-49517de6d88c",
   "metadata": {},
   "outputs": [],
   "source": [
    "# Ensure that buy_df and sell_df have the same length\n",
    "if len(buy_df) != len(sell_df):\n",
    "    min_len = min(len(buy_df), len(sell_df))\n",
    "    buy_df = buy_df[:min_len]\n",
    "    sell_df = sell_df[:min_len]"
   ]
  },
  {
   "cell_type": "code",
   "execution_count": 11,
   "id": "49d5c081-5f6b-46e0-b495-c823892a0523",
   "metadata": {},
   "outputs": [
    {
     "name": "stdout",
     "output_type": "stream",
     "text": [
      "Number of Wins: 4\n",
      "Number of Losses: 5\n",
      "Number of trades: 9\n",
      "Win/Loss Ratio: 44.44%\n",
      "Total Profit/Loss: $-22528.90\n",
      "Profit Percentage: -45.06%\n",
      "                        Date Action      Price Shares       Balance\n",
      "0  2023-03-17 09:40:00-04:00    Buy  39.049999    512  30006.400391\n",
      "1  2023-03-21 09:40:00-04:00   Sell  39.090000    512  50020.480469\n",
      "2  2023-04-03 09:30:00-04:00    Buy  43.410000    460  30051.880539\n",
      "3  2023-04-11 09:30:00-04:00   Sell  40.689999    460  48769.279907\n",
      "4  2023-04-12 09:30:00-04:00    Buy  38.910000    514  28769.539986\n",
      "5  2023-04-17 09:30:00-04:00   Sell  37.884998    514  48242.429123\n",
      "6  2023-04-19 09:30:00-04:00    Buy  36.970001    540  28278.628464\n",
      "7  2023-04-26 09:30:00-04:00   Sell  34.766701    540  47052.646866\n",
      "8  2023-05-02 09:30:00-04:00    Buy  34.930000    572  27072.686691\n",
      "9  2023-05-04 10:05:00-04:00   Sell  35.855000    572  47581.746429\n",
      "10 2023-05-09 09:30:00-04:00    Buy  34.810001    574  27600.805641\n",
      "11 2023-05-11 09:30:00-04:00   Sell  36.980000    574  48827.325378\n",
      "12 2023-05-12 10:00:00-04:00    Buy  36.084999    554  28836.235886\n",
      "13 2023-05-15 11:15:00-04:00   Sell  37.139999    554  49411.795547\n",
      "14 2023-05-17 09:30:00-04:00    Buy  36.889999    542  29417.415878\n",
      "15 2023-05-22 09:30:00-04:00   Sell  36.195000    542  49035.105713\n",
      "16 2023-05-23 09:30:00-04:00    Buy  35.078999    570  29040.076530\n",
      "17 2023-05-31 14:55:00-04:00   Sell  32.310001    570  47456.777313\n",
      "18 2023-06-05 09:55:00-04:00    Buy  34.939999    572  27471.098099\n"
     ]
    }
   ],
   "source": [
    "# Calculate metrics\n",
    "num_wins = (sell_df[\"Price\"] > buy_df[\"Price\"]).sum()\n",
    "num_losses = (sell_df[\"Price\"] < buy_df[\"Price\"]).sum()\n",
    "win_ratio = num_wins / (num_wins + num_losses)\n",
    "total_profit = balance - starting_balance\n",
    "num_trades = len(buy_df)\n",
    "profit_percentage = (total_profit / starting_balance) * 100\n",
    "\n",
    "print(\"Number of Wins:\", num_wins)\n",
    "print(\"Number of Losses:\", num_losses)\n",
    "print(f'Number of trades: {num_trades}')\n",
    "print(\"Win/Loss Ratio: {:.2%}\".format(win_ratio))\n",
    "print(\"Total Profit/Loss: ${:.2f}\".format(total_profit))\n",
    "print(\"Profit Percentage: {:.2f}%\".format(profit_percentage))\n",
    "print(trade_journal)"
   ]
  },
  {
   "cell_type": "code",
   "execution_count": null,
   "id": "0381fe54-a7c2-48e5-9fae-76068c075541",
   "metadata": {},
   "outputs": [],
   "source": []
  },
  {
   "cell_type": "code",
   "execution_count": null,
   "id": "403b9f22-24f6-4029-bae3-0bd05d2ad798",
   "metadata": {},
   "outputs": [],
   "source": []
  },
  {
   "cell_type": "code",
   "execution_count": null,
   "id": "2ca6aeac-4461-4ae1-bd86-614ed5bcbb85",
   "metadata": {},
   "outputs": [],
   "source": []
  }
 ],
 "metadata": {
  "kernelspec": {
   "display_name": "Python 3 (ipykernel)",
   "language": "python",
   "name": "python3"
  },
  "language_info": {
   "codemirror_mode": {
    "name": "ipython",
    "version": 3
   },
   "file_extension": ".py",
   "mimetype": "text/x-python",
   "name": "python",
   "nbconvert_exporter": "python",
   "pygments_lexer": "ipython3",
   "version": "3.7.15"
  }
 },
 "nbformat": 4,
 "nbformat_minor": 5
}
